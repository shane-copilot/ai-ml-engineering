{
 "cells": [
  {
   "cell_type": "markdown",
   "id": "c82229d7",
   "metadata": {},
   "source": [
    "# Phase 1: Qwen3-0.8B Fine-tuning on CodeAlpaca\n",
    "\n",
    "Training Qwen3-Zero-Coder-Reasoning-0.8B on sahil2801/CodeAlpaca-20k dataset\n",
    "\n",
    "**Expected Time:** 2-3 hours on T4 GPU"
   ]
  },
  {
   "cell_type": "code",
   "execution_count": null,
   "id": "ef0ce3e4",
   "metadata": {},
   "outputs": [],
   "source": [
    "# Install dependencies\n",
    "!pip install -q transformers datasets accelerate peft bitsandbytes trl"
   ]
  },
  {
   "cell_type": "code",
   "execution_count": null,
   "id": "476165cc",
   "metadata": {},
   "outputs": [],
   "source": [
    "import torch\n",
    "from transformers import AutoModelForCausalLM, AutoTokenizer, TrainingArguments\n",
    "from datasets import load_dataset\n",
    "from peft import LoraConfig, get_peft_model, prepare_model_for_kbit_training\n",
    "from trl import SFTTrainer, SFTConfig\n",
    "\n",
    "print(f\"PyTorch version: {torch.__version__}\")\n",
    "print(f\"CUDA available: {torch.cuda.is_available()}\")\n",
    "if torch.cuda.is_available():\n",
    "    print(f\"GPU: {torch.cuda.get_device_name(0)}\")"
   ]
  },
  {
   "cell_type": "code",
   "execution_count": null,
   "id": "ce08970e",
   "metadata": {},
   "outputs": [],
   "source": [
    "# Configuration\n",
    "MODEL_PATH = \"/kaggle/input/qwen3-08b-coder-reasoning\"  # Your uploaded dataset (corrected name)\n",
    "OUTPUT_DIR = \"/kaggle/working/qwen3-08b-phase1-codealpaca\"\n",
    "DATASET_NAME = \"sahil2801/CodeAlpaca-20k\"\n",
    "\n",
    "# Training hyperparameters\n",
    "BATCH_SIZE = 4\n",
    "GRADIENT_ACCUMULATION = 4  # Effective batch size = 16\n",
    "LEARNING_RATE = 2e-4\n",
    "NUM_EPOCHS = 3\n",
    "MAX_SEQ_LENGTH = 2048"
   ]
  },
  {
   "cell_type": "code",
   "execution_count": null,
   "id": "3b796e64",
   "metadata": {},
   "outputs": [],
   "source": [
    "# Load tokenizer\n",
    "print(\"Loading tokenizer...\")\n",
    "tokenizer = AutoTokenizer.from_pretrained(MODEL_PATH)\n",
    "tokenizer.pad_token = tokenizer.eos_token\n",
    "tokenizer.padding_side = \"right\""
   ]
  },
  {
   "cell_type": "code",
   "execution_count": null,
   "id": "1aa5344d",
   "metadata": {},
   "outputs": [],
   "source": [
    "# Load model with 4-bit quantization for memory efficiency\n",
    "print(\"Loading model with 4-bit quantization...\")\n",
    "model = AutoModelForCausalLM.from_pretrained(\n",
    "    MODEL_PATH,\n",
    "    load_in_4bit=True,\n",
    "    torch_dtype=torch.float16,\n",
    "    device_map=\"auto\",\n",
    "    trust_remote_code=True\n",
    ")\n",
    "model = prepare_model_for_kbit_training(model)\n",
    "print(f\"Model loaded on device: {model.device}\")"
   ]
  },
  {
   "cell_type": "code",
   "execution_count": null,
   "id": "c9b0e699",
   "metadata": {},
   "outputs": [],
   "source": [
    "# Configure LoRA for parameter-efficient fine-tuning\n",
    "print(\"Setting up LoRA...\")\n",
    "lora_config = LoraConfig(\n",
    "    r=16,  # LoRA rank\n",
    "    lora_alpha=32,\n",
    "    target_modules=[\"q_proj\", \"k_proj\", \"v_proj\", \"o_proj\"],\n",
    "    lora_dropout=0.05,\n",
    "    bias=\"none\",\n",
    "    task_type=\"CAUSAL_LM\"\n",
    ")\n",
    "model = get_peft_model(model, lora_config)\n",
    "model.print_trainable_parameters()"
   ]
  },
  {
   "cell_type": "code",
   "execution_count": null,
   "id": "5015858a",
   "metadata": {},
   "outputs": [],
   "source": [
    "# Load CodeAlpaca dataset\n",
    "print(\"Loading CodeAlpaca-20k dataset...\")\n",
    "dataset = load_dataset(DATASET_NAME, split=\"train\")\n",
    "print(f\"Dataset size: {len(dataset)} examples\")\n",
    "print(f\"\\nSample entry:\")\n",
    "print(dataset[0])"
   ]
  },
  {
   "cell_type": "code",
   "execution_count": null,
   "id": "1ca8e217",
   "metadata": {},
   "outputs": [],
   "source": [
    "# Format dataset for instruction tuning\n",
    "def format_instruction(example):\n",
    "    \"\"\"Format Alpaca examples into instruction-following format\"\"\"\n",
    "    instruction = example.get('instruction', '')\n",
    "    input_text = example.get('input', '')\n",
    "    output = example.get('output', '')\n",
    "    \n",
    "    if input_text:\n",
    "        prompt = f\"Instruction: {instruction}\\n\\nInput: {input_text}\\n\\nResponse:\"\n",
    "    else:\n",
    "        prompt = f\"Instruction: {instruction}\\n\\nResponse:\"\n",
    "    \n",
    "    text = f\"{prompt} {output}\"\n",
    "    return {\"text\": text}\n",
    "\n",
    "dataset = dataset.map(format_instruction)\n",
    "print(\"\\nFormatted example:\")\n",
    "print(dataset[0]['text'][:500])"
   ]
  },
  {
   "cell_type": "code",
   "execution_count": null,
   "id": "f2bc2152",
   "metadata": {},
   "outputs": [],
   "source": [
    "# Training arguments (using SFTConfig for SFT-specific parameters)\n",
    "training_args = SFTConfig(\n",
    "    output_dir=OUTPUT_DIR,\n",
    "    num_train_epochs=NUM_EPOCHS,\n",
    "    per_device_train_batch_size=BATCH_SIZE,\n",
    "    gradient_accumulation_steps=GRADIENT_ACCUMULATION,\n",
    "    learning_rate=LEARNING_RATE,\n",
    "    fp16=True,\n",
    "    save_strategy=\"epoch\",\n",
    "    logging_steps=50,\n",
    "    warmup_steps=100,\n",
    "    lr_scheduler_type=\"cosine\",\n",
    "    optim=\"paged_adamw_8bit\",\n",
    "    report_to=\"none\",\n",
    "    max_grad_norm=0.3,\n",
    "    # SFT-specific parameters\n",
    "    max_length=2048,\n",
    "    dataset_text_field=\"text\",\n",
    "    packing=False,\n",
    ")"
   ]
  },
  {
   "cell_type": "code",
   "execution_count": null,
   "id": "6775d3e1",
   "metadata": {},
   "outputs": [],
   "source": [
    "# Initialize trainer\n",
    "trainer = SFTTrainer(\n",
    "    model=model,\n",
    "    train_dataset=dataset,\n",
    "    processing_class=tokenizer,\n",
    "    args=training_args,\n",
    ")\n",
    "\n",
    "print(\"\\nTrainer initialized. Starting training...\")\n"
   ]
  },
  {
   "cell_type": "code",
   "execution_count": null,
   "id": "6f34e13a",
   "metadata": {},
   "outputs": [],
   "source": [
    "# Train!\n",
    "trainer.train()"
   ]
  },
  {
   "cell_type": "code",
   "execution_count": null,
   "id": "0ae1484d",
   "metadata": {},
   "outputs": [],
   "source": [
    "# Save the fine-tuned model\n",
    "print(\"Saving model...\")\n",
    "trainer.model.save_pretrained(OUTPUT_DIR + \"/final\")\n",
    "tokenizer.save_pretrained(OUTPUT_DIR + \"/final\")\n",
    "print(f\"✓ Model saved to {OUTPUT_DIR}/final\")"
   ]
  },
  {
   "cell_type": "code",
   "execution_count": null,
   "id": "224d1269",
   "metadata": {},
   "outputs": [],
   "source": [
    "# Merge LoRA adapter into base model for Phase 2\n",
    "print(\"\\n\" + \"=\"*60)\n",
    "print(\"MERGING LORA ADAPTER INTO BASE MODEL\")\n",
    "print(\"=\"*60)\n",
    "\n",
    "# Reload the trained model in full precision for merging\n",
    "print(\"\\nLoading trained model for merging...\")\n",
    "from peft import PeftModel\n",
    "\n",
    "# Load base model (full precision)\n",
    "base_model = AutoModelForCausalLM.from_pretrained(\n",
    "    MODEL_PATH,\n",
    "    torch_dtype=torch.float16,\n",
    "    device_map=\"auto\",\n",
    "    trust_remote_code=True\n",
    ")\n",
    "\n",
    "# Load the LoRA adapter we just trained\n",
    "lora_model = PeftModel.from_pretrained(base_model, OUTPUT_DIR + \"/final\")\n",
    "\n",
    "# Merge LoRA weights into base model\n",
    "print(\"Merging LoRA adapter into base model...\")\n",
    "merged_model = lora_model.merge_and_unload()\n",
    "\n",
    "# Save the merged model\n",
    "MERGED_OUTPUT = OUTPUT_DIR + \"/merged\"\n",
    "print(f\"Saving merged model to {MERGED_OUTPUT}...\")\n",
    "merged_model.save_pretrained(MERGED_OUTPUT)\n",
    "tokenizer.save_pretrained(MERGED_OUTPUT)\n",
    "\n",
    "print(f\"\\n✓ Merged model saved to {MERGED_OUTPUT}\")\n",
    "print(\"✓ This merged model should be used as input for Phase 2\")\n",
    "print(f\"✓ Pad token ID: {tokenizer.pad_token_id} (preserved for next phase)\")\n",
    "\n",
    "# Clean up to free memory\n",
    "del base_model, lora_model, merged_model\n",
    "torch.cuda.empty_cache()\n",
    "print(\"✓ Memory cleared\")"
   ]
  },
  {
   "cell_type": "markdown",
   "id": "2c7f1d2d",
   "metadata": {},
   "source": [
    "## Merge LoRA Adapter into Base Model\n",
    "\n",
    "For sequential training (Phase 1 → Phase 2 → Phase 3 → Phase 4), we need to merge the LoRA adapter into the base model so Phase 2 can build on this knowledge."
   ]
  },
  {
   "cell_type": "code",
   "execution_count": null,
   "id": "16be64e5",
   "metadata": {},
   "outputs": [],
   "source": [
    "# Test the model\n",
    "print(\"\\nTesting the fine-tuned model...\")\n",
    "test_prompt = \"Instruction: Write a Python function to calculate factorial.\\n\\nResponse:\"\n",
    "\n",
    "inputs = tokenizer(test_prompt, return_tensors=\"pt\").to(model.device)\n",
    "outputs = model.generate(**inputs, max_new_tokens=200, temperature=0.7)\n",
    "result = tokenizer.decode(outputs[0], skip_special_tokens=True)\n",
    "print(result)"
   ]
  },
  {
   "cell_type": "code",
   "execution_count": null,
   "id": "a3b0d80a",
   "metadata": {},
   "outputs": [],
   "source": [
    "# Archive BOTH outputs for download\n",
    "print(\"\\nArchiving outputs...\")\n",
    "!zip -r qwen3-08b-phase1-codealpaca-lora.zip {OUTPUT_DIR}/final\n",
    "!zip -r qwen3-08b-phase1-codealpaca-merged.zip {OUTPUT_DIR}/merged\n",
    "\n",
    "print(\"\\n\" + \"=\"*60)\n",
    "print(\"PHASE 1 COMPLETE!\")\n",
    "print(\"=\"*60)\n",
    "print(\"\\n✓ LoRA adapter archived: qwen3-08b-phase1-codealpaca-lora.zip\")\n",
    "print(\"✓ Merged model archived: qwen3-08b-phase1-codealpaca-merged.zip\")\n",
    "print(\"\\n⚠️  IMPORTANT: Upload the MERGED model as input for Phase 2\")\n",
    "print(f\"⚠️  Pad token ID {tokenizer.pad_token_id} is preserved in merged model\")"
   ]
  }
 ],
 "metadata": {
  "kernelspec": {
   "display_name": "Python 3",
   "language": "python",
   "name": "python3"
  },
  "language_info": {
   "name": "python"
  }
 },
 "nbformat": 4,
 "nbformat_minor": 5
}
